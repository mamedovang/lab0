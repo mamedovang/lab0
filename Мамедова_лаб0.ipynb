{
  "nbformat": 4,
  "nbformat_minor": 0,
  "metadata": {
    "colab": {
      "name": "Мамедова лаб 0.ipynb",
      "provenance": [],
      "include_colab_link": true
    },
    "kernelspec": {
      "name": "python3",
      "display_name": "Python 3"
    }
  },
  "cells": [
    {
      "cell_type": "markdown",
      "metadata": {
        "id": "view-in-github",
        "colab_type": "text"
      },
      "source": [
        "<a href=\"https://colab.research.google.com/github/mamedovang/lab0/blob/main/%D0%9C%D0%B0%D0%BC%D0%B5%D0%B4%D0%BE%D0%B2%D0%B0_%D0%BB%D0%B0%D0%B10.ipynb\" target=\"_parent\"><img src=\"https://colab.research.google.com/assets/colab-badge.svg\" alt=\"Open In Colab\"/></a>"
      ]
    },
    {
      "cell_type": "markdown",
      "metadata": {
        "id": "K4Sg8x12CjT0"
      },
      "source": [
        "# **hashlib** — хеширование строк в Python на примерах — MD5, SHA1"
      ]
    },
    {
      "cell_type": "markdown",
      "metadata": {
        "id": "qd9AXWBuCyEL"
      },
      "source": [
        "*   В Python хеш-функция принимает вводную последовательность с переменной длиной в байтах и конвертирует ее в последовательность с фиксированной длиной. Данная функция односторонняя.\n",
        "*   Это значит, что если f является функцией хеширования, f(x) вычисляется довольно быстро и без лишних сложностей, однако на повторное получение х потребуется очень много времени. Значение, что возвращается хеш-функцией, обычно называют хешем, дайджестом сообщения, значением хеша или контрольной суммой. \n",
        "    \n",
        "    **Популярные хеш-функции Python**\n",
        "\n",
        "\n",
        "1.   **MD5:** Алгоритм производит хеш со значением в 128 битов. Широко используется дляпроверки целостности данных. Не подходит для использования в иных областях по причине уязвимости в безопасности MD5.\n",
        "\n",
        "2.   **SHA:** Группа алгоритмов, что были разработаны NSA Соединенных Штатов. Они являются частью Федерального стандарта обработки информации США. Эти алгоритмы широко используются в нескольких криптографических приложениях. Длина сообщения варьируется от 160 до 512 бит.\n"
      ]
    },
    {
      "cell_type": "code",
      "metadata": {
        "id": "uSd4JAzjChb_"
      },
      "source": [
        "import hashlib"
      ],
      "execution_count": 28,
      "outputs": []
    },
    {
      "cell_type": "markdown",
      "metadata": {
        "id": "fLsBz_mwERy8"
      },
      "source": [
        "Теперь для списка доступных алгоритмов используются algorithms_available и algorithms_guaranteed."
      ]
    },
    {
      "cell_type": "code",
      "metadata": {
        "id": "7qDs8KkJEXm-",
        "colab": {
          "base_uri": "https://localhost:8080/"
        },
        "outputId": "0956a239-23b8-4169-f639-88ca7d8f628b"
      },
      "source": [
        "print(hashlib.algorithms_available)\n",
        "print(hashlib.algorithms_guaranteed)"
      ],
      "execution_count": 29,
      "outputs": [
        {
          "output_type": "stream",
          "text": [
            "{'blake2s256', 'sha512-256', 'sha384', 'shake256', 'sha3-256', 'sha3_224', 'shake128', 'sha256', 'sha512-224', 'sha3-224', 'sha3-384', 'md5', 'blake2s', 'sha3-512', 'shake_256', 'sha224', 'sha3_384', 'md5-sha1', 'sha3_512', 'blake2b', 'sha512', 'ripemd160', 'whirlpool', 'sm3', 'shake_128', 'md4', 'sha3_256', 'sha1', 'blake2b512'}\n",
            "{'md5', 'sha3_512', 'blake2b', 'sha512', 'blake2s', 'sha256', 'sha384', 'shake_256', 'shake_128', 'sha224', 'sha3_256', 'sha1', 'sha3_384', 'sha3_224'}\n"
          ],
          "name": "stdout"
        }
      ]
    },
    {
      "cell_type": "markdown",
      "metadata": {
        "id": "4_KBFUMVEelz"
      },
      "source": [
        "Метод **algorithms_available** создает список всех алгоритмов, доступных в системе, включая те, что доступны через OpenSSl.\n",
        "\n",
        " В данном случае в списке можно заметить дубликаты названий. algorithms_guaranteed перечисляет только алгоритмы модуля. Всегда присутствуют **md5, sha1, sha224, sha256, sha384, sha512**."
      ]
    },
    {
      "cell_type": "markdown",
      "metadata": {
        "id": "AnoY66OEE5bj"
      },
      "source": [
        "# Примеры кода с хеш-функциями в Python"
      ]
    },
    {
      "cell_type": "markdown",
      "metadata": {
        "id": "BlZzyjfcE8JR"
      },
      "source": [
        "Код ниже принимает строку **\"Hello World\"** и выводит дайджест HEX данной строки. hexdigest возвращает строку HEX, что представляет хеш, и в случае, если вам нужна последовательность байтов, нужно использовать дайджест."
      ]
    },
    {
      "cell_type": "code",
      "metadata": {
        "id": "SKGBxYICEwuF",
        "colab": {
          "base_uri": "https://localhost:8080/"
        },
        "outputId": "b327c5ed-0c92-4e80-e62e-ecf49f8a77fc"
      },
      "source": [
        "import hashlib\n",
        " \n",
        "hash_object = hashlib.md5(b'Hello World')\n",
        "print(hash_object.hexdigest())"
      ],
      "execution_count": 30,
      "outputs": [
        {
          "output_type": "stream",
          "text": [
            "b10a8db164e0754105b7a99be72e3fe5\n"
          ],
          "name": "stdout"
        }
      ]
    },
    {
      "cell_type": "code",
      "metadata": {
        "colab": {
          "base_uri": "https://localhost:8080/"
        },
        "id": "QtHCWkAcXjos",
        "outputId": "97b2a056-da65-4ee8-bf7c-e711a6ff0c21"
      },
      "source": [
        "import hashlib\r\n",
        " \r\n",
        "hash_object = hashlib.sha256(b'MamedovaNG')\r\n",
        "print(hash_object.hexdigest())"
      ],
      "execution_count": 31,
      "outputs": [
        {
          "output_type": "stream",
          "text": [
            "ede1fe0274c069a4b12ff37271bcafecbab8681326f25e1b106de186acc17ef4\n"
          ],
          "name": "stdout"
        }
      ]
    },
    {
      "cell_type": "code",
      "metadata": {
        "colab": {
          "base_uri": "https://localhost:8080/"
        },
        "id": "8-6MqZwEXqJV",
        "outputId": "fa14e893-1ca5-4501-e742-c0dac3608f6e"
      },
      "source": [
        "import hashlib\r\n",
        " \r\n",
        "hash_object = hashlib.sha224(b'Hello Mba201')\r\n",
        "print(hash_object.hexdigest())"
      ],
      "execution_count": 15,
      "outputs": [
        {
          "output_type": "stream",
          "text": [
            "561ea169ab1d25385cdb6569f7e771af210b46e592dce97d77fe1e47\n"
          ],
          "name": "stdout"
        }
      ]
    },
    {
      "cell_type": "markdown",
      "metadata": {
        "id": "2XZOJN6-FjnP"
      },
      "source": [
        "если вам нужно принять какой-то ввод с консоли и хешировать его, не забудьте закодировать строку в последовательности байтов:"
      ]
    },
    {
      "cell_type": "markdown",
      "metadata": {
        "id": "GTOPrdJPJKxn"
      },
      "source": [
        "1. Хеширования на **MD5** "
      ]
    },
    {
      "cell_type": "code",
      "metadata": {
        "id": "u_fw28UtFk3i",
        "colab": {
          "base_uri": "https://localhost:8080/"
        },
        "outputId": "c05ef2c3-9937-4262-ec8c-550746a2789a"
      },
      "source": [
        "import hashlib\n",
        " \n",
        "mystring = input('Enter String to hash: ')\n",
        " \n",
        "# Предположительно по умолчанию UTF-8\n",
        "hash_object = hashlib.md5(mystring.encode())\n",
        "print(hash_object.hexdigest())"
      ],
      "execution_count": 32,
      "outputs": [
        {
          "output_type": "stream",
          "text": [
            "Enter String to hash: mba\n",
            "91e112b7220af68fcf5be09ee837f7a7\n"
          ],
          "name": "stdout"
        }
      ]
    },
    {
      "cell_type": "code",
      "metadata": {
        "colab": {
          "base_uri": "https://localhost:8080/"
        },
        "id": "41fxFvL6Vnw0",
        "outputId": "43337eed-7bb1-488a-bec3-f20377e7dfb9"
      },
      "source": [
        "import hashlib\n",
        " \n",
        "hash_object = hashlib.md5(b'MBA201')\n",
        "print(hash_object.hexdigest())"
      ],
      "execution_count": 35,
      "outputs": [
        {
          "output_type": "stream",
          "text": [
            "678e1a826c37fd3d0f3cdf666d2e858d\n"
          ],
          "name": "stdout"
        }
      ]
    },
    {
      "cell_type": "markdown",
      "metadata": {
        "id": "xiLcc8x8Fnse"
      },
      "source": [
        "2. Хеширования на **SHA1**  "
      ]
    },
    {
      "cell_type": "code",
      "metadata": {
        "id": "QbjadNCFF-h-",
        "colab": {
          "base_uri": "https://localhost:8080/"
        },
        "outputId": "22bd7064-1c56-4bc0-c63c-75eea11273d3"
      },
      "source": [
        "import hashlib\n",
        " \n",
        "hash_object = hashlib.sha1(b'Hello World')\n",
        "hex_dig = hash_object.hexdigest()\n",
        " \n",
        "print(hex_dig)"
      ],
      "execution_count": 36,
      "outputs": [
        {
          "output_type": "stream",
          "text": [
            "0a4d55a8d778e5022fab701977c5d840bbc486d0\n"
          ],
          "name": "stdout"
        }
      ]
    },
    {
      "cell_type": "markdown",
      "metadata": {
        "id": "DP7-NgP8I6fr"
      },
      "source": [
        "3. Хеширование на **SHA224**"
      ]
    },
    {
      "cell_type": "code",
      "metadata": {
        "id": "5fByPQkAJUww",
        "colab": {
          "base_uri": "https://localhost:8080/"
        },
        "outputId": "e3ff86f1-9a46-4035-a71f-e13cf344d3a3"
      },
      "source": [
        "import hashlib\n",
        " \n",
        "hash_object = hashlib.sha224(b'Hello World')\n",
        "hex_dig = hash_object.hexdigest()\n",
        " \n",
        "print(hex_dig)"
      ],
      "execution_count": 37,
      "outputs": [
        {
          "output_type": "stream",
          "text": [
            "c4890faffdb0105d991a461e668e276685401b02eab1ef4372795047\n"
          ],
          "name": "stdout"
        }
      ]
    },
    {
      "cell_type": "markdown",
      "metadata": {
        "id": "d-NGu_slJYXx"
      },
      "source": [
        "4. Хеширование на **SHA256**"
      ]
    },
    {
      "cell_type": "code",
      "metadata": {
        "id": "k4QR5WyiJXRT",
        "colab": {
          "base_uri": "https://localhost:8080/"
        },
        "outputId": "1b2ee166-dd0e-4e8e-a40b-3e2a849d1fdd"
      },
      "source": [
        "import hashlib\n",
        " \n",
        "hash_object = hashlib.sha256(b'Hello World')\n",
        "hex_dig = hash_object.hexdigest()\n",
        " \n",
        "print(hex_dig)"
      ],
      "execution_count": 21,
      "outputs": [
        {
          "output_type": "stream",
          "text": [
            "a591a6d40bf420404a011733cfb7b190d62c65bf0bcda32b57b277d9ad9f146e\n"
          ],
          "name": "stdout"
        }
      ]
    },
    {
      "cell_type": "markdown",
      "metadata": {
        "id": "AJoDm5wKJlad"
      },
      "source": [
        "5. Хеширование на **SHA384**"
      ]
    },
    {
      "cell_type": "code",
      "metadata": {
        "id": "ETZbgFdyJuo9",
        "colab": {
          "base_uri": "https://localhost:8080/"
        },
        "outputId": "1476761c-08ee-4fac-a8b6-caac97c20ab7"
      },
      "source": [
        "import hashlib\n",
        " \n",
        "hash_object = hashlib.sha384(b'Hello World')\n",
        "hex_dig = hash_object.hexdigest()\n",
        " \n",
        "print(hex_dig)"
      ],
      "execution_count": 38,
      "outputs": [
        {
          "output_type": "stream",
          "text": [
            "99514329186b2f6ae4a1329e7ee6c610a729636335174ac6b740f9028396fcc803d0e93863a7c3d90f86beee782f4f3f\n"
          ],
          "name": "stdout"
        }
      ]
    },
    {
      "cell_type": "markdown",
      "metadata": {
        "id": "21OIsmeDJzl7"
      },
      "source": [
        "6. Хеширование на **SHA384**"
      ]
    },
    {
      "cell_type": "code",
      "metadata": {
        "id": "V1AjTGNyJ2qQ",
        "colab": {
          "base_uri": "https://localhost:8080/"
        },
        "outputId": "75a36e7f-2d9f-46c5-855c-7c4f66bd7c5d"
      },
      "source": [
        "import hashlib\n",
        " \n",
        "hash_object = hashlib.sha512(b'Hello World')\n",
        "hex_dig = hash_object.hexdigest()\n",
        " \n",
        "print(hex_dig)"
      ],
      "execution_count": 39,
      "outputs": [
        {
          "output_type": "stream",
          "text": [
            "2c74fd17edafd80e8447b0d46741ee243b7eb74dd2149a0ab1b9246fb30382f27e853d8585719e0e67cbda0daa8f51671064615d645ae27acb15bfb1447f459b\n"
          ],
          "name": "stdout"
        }
      ]
    },
    {
      "cell_type": "markdown",
      "metadata": {
        "id": "TrIxobQqJ5sh"
      },
      "source": [
        "# Использование алгоритмов OpenSSL"
      ]
    },
    {
      "cell_type": "markdown",
      "metadata": {
        "id": "1chQxkjOJ9T8"
      },
      "source": [
        "Алгоритмы, предоставленные OpenSSL определяем через функцию  **algorithms_available**"
      ]
    },
    {
      "cell_type": "code",
      "metadata": {
        "id": "ypoqL8MKP-PX",
        "colab": {
          "base_uri": "https://localhost:8080/"
        },
        "outputId": "0cfae0e4-edfc-472d-e3db-fb6fbae2130b"
      },
      "source": [
        "print(hashlib.algorithms_available)"
      ],
      "execution_count": 40,
      "outputs": [
        {
          "output_type": "stream",
          "text": [
            "{'blake2s256', 'sha512-256', 'sha384', 'shake256', 'sha3-256', 'sha3_224', 'shake128', 'sha256', 'sha512-224', 'sha3-224', 'sha3-384', 'md5', 'blake2s', 'sha3-512', 'shake_256', 'sha224', 'sha3_384', 'md5-sha1', 'sha3_512', 'blake2b', 'sha512', 'ripemd160', 'whirlpool', 'sm3', 'shake_128', 'md4', 'sha3_256', 'sha1', 'blake2b512'}\n"
          ],
          "name": "stdout"
        }
      ]
    },
    {
      "cell_type": "code",
      "metadata": {
        "id": "zjJpT73gQKaz",
        "colab": {
          "base_uri": "https://localhost:8080/"
        },
        "outputId": "ad118443-9e52-4c37-8f82-6c6e6179b855"
      },
      "source": [
        "import hashlib\n",
        " \n",
        "hash_object = hashlib.new('ripemd160')\n",
        "hash_object.update(b'Hello World')\n",
        " \n",
        "print(hash_object.hexdigest())"
      ],
      "execution_count": 42,
      "outputs": [
        {
          "output_type": "stream",
          "text": [
            "a830d7beb04eb7549ce990fb7dc962e499a27230\n"
          ],
          "name": "stdout"
        }
      ]
    },
    {
      "cell_type": "markdown",
      "metadata": {
        "id": "dZK74AybR3Bk"
      },
      "source": [
        "# Пример хеширования паролей Python"
      ]
    },
    {
      "cell_type": "markdown",
      "metadata": {
        "id": "21CyU3u_R5cR"
      },
      "source": [
        "В следующем примере пароли будут хешироваться для последующего сохранения в базе данных. Здесь мы будем использовать **salt**. **salt** является случайной последовательностью, добавленной к строке пароля перед использованием хеш-функции. **salt** используется для предотвращения перебора по словарю (**dictionary attack**) и атак радужной таблицы (**rainbow tables attacks**)."
      ]
    },
    {
      "cell_type": "code",
      "metadata": {
        "id": "ASZPNYhvR4nm",
        "colab": {
          "base_uri": "https://localhost:8080/"
        },
        "outputId": "fd195fb5-7f81-4a8c-ef46-67566dc90875"
      },
      "source": [
        "import uuid\n",
        "import hashlib\n",
        " \n",
        "def hash_password(password):\n",
        "    # uuid используется для генерации случайного числа\n",
        "    salt = uuid.uuid4().hex\n",
        "    return hashlib.sha256(salt.encode() + password.encode()).hexdigest() + ':' + salt\n",
        "    \n",
        "def check_password(hashed_password, user_password):\n",
        "    password, salt = hashed_password.split(':')\n",
        "    return password == hashlib.sha256(salt.encode() + user_password.encode()).hexdigest()\n",
        " \n",
        "new_pass = input('Введите пароль: ')\n",
        "hashed_password = hash_password(new_pass)\n",
        "print('Строка для хранения в базе данных: ' + hashed_password)\n",
        "old_pass = input('Введите пароль еще раз для проверки: ')\n",
        " \n",
        "if check_password(hashed_password, old_pass):\n",
        "    print('Вы ввели правильный пароль')\n",
        "else:\n",
        "    print('Извините, но пароли не совпадают')"
      ],
      "execution_count": 43,
      "outputs": [
        {
          "output_type": "stream",
          "text": [
            "Введите пароль: 12345\n",
            "Строка для хранения в базе данных: 3e4b7fd18afcbe92c0dd907207190cfb034e32a8bdd78dc88cd6202abd107363:8ff88403b1504d7bba6f5b8416c713c3\n",
            "Введите пароль еще раз для проверки: 12345\n",
            "Вы ввели правильный пароль\n"
          ],
          "name": "stdout"
        }
      ]
    }
  ]
}