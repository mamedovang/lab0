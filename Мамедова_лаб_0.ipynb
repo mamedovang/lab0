{
  "nbformat": 4,
  "nbformat_minor": 0,
  "metadata": {
    "colab": {
      "name": "Мамедова лаб 0.ipynb",
      "provenance": [],
      "include_colab_link": true
    },
    "kernelspec": {
      "name": "python3",
      "display_name": "Python 3"
    }
  },
  "cells": [
    {
      "cell_type": "markdown",
      "metadata": {
        "id": "view-in-github",
        "colab_type": "text"
      },
      "source": [
        "<a href=\"https://colab.research.google.com/github/mamedovang/lab0/blob/main/%D0%9C%D0%B0%D0%BC%D0%B5%D0%B4%D0%BE%D0%B2%D0%B0_%D0%BB%D0%B0%D0%B1_0.ipynb\" target=\"_parent\"><img src=\"https://colab.research.google.com/assets/colab-badge.svg\" alt=\"Open In Colab\"/></a>"
      ]
    },
    {
      "cell_type": "markdown",
      "metadata": {
        "id": "K4Sg8x12CjT0"
      },
      "source": [
        "# **hashlib** — хеширование строк в Python на примерах — MD5, SHA1"
      ]
    },
    {
      "cell_type": "markdown",
      "metadata": {
        "id": "qd9AXWBuCyEL"
      },
      "source": [
        "*   В Python хеш-функция принимает вводную последовательность с переменной длиной в байтах и конвертирует ее в последовательность с фиксированной длиной. Данная функция односторонняя.\n",
        "*   Это значит, что если f является функцией хеширования, f(x) вычисляется довольно быстро и без лишних сложностей, однако на повторное получение х потребуется очень много времени. Значение, что возвращается хеш-функцией, обычно называют хешем, дайджестом сообщения, значением хеша или контрольной суммой. \n",
        "    \n",
        "    **Популярные хеш-функции Python**\n",
        "\n",
        "\n",
        "1.   **MD5:** Алгоритм производит хеш со значением в 128 битов. Широко используется дляпроверки целостности данных. Не подходит для использования в иных областях по причине уязвимости в безопасности MD5.\n",
        "\n",
        "2.   **SHA:** Группа алгоритмов, что были разработаны NSA Соединенных Штатов. Они являются частью Федерального стандарта обработки информации США. Эти алгоритмы широко используются в нескольких криптографических приложениях. Длина сообщения варьируется от 160 до 512 бит.\n"
      ]
    },
    {
      "cell_type": "code",
      "metadata": {
        "id": "uSd4JAzjChb_"
      },
      "source": [
        "import hashlib"
      ],
      "execution_count": 1,
      "outputs": []
    },
    {
      "cell_type": "markdown",
      "metadata": {
        "id": "fLsBz_mwERy8"
      },
      "source": [
        "Теперь для списка доступных алгоритмов используются algorithms_available и algorithms_guaranteed."
      ]
    },
    {
      "cell_type": "code",
      "metadata": {
        "id": "7qDs8KkJEXm-",
        "colab": {
          "base_uri": "https://localhost:8080/"
        },
        "outputId": "8de81602-4739-469b-d6db-ef55ff2aef44"
      },
      "source": [
        "print(hashlib.algorithms_available)\n",
        "print(hashlib.algorithms_guaranteed)"
      ],
      "execution_count": 2,
      "outputs": [
        {
          "output_type": "stream",
          "text": [
            "{'blake2s256', 'sha512-256', 'sha384', 'shake256', 'sha3-256', 'sha3_224', 'shake128', 'sha256', 'sha512-224', 'sha3-224', 'sha3-384', 'md5', 'blake2s', 'sha3-512', 'shake_256', 'sha224', 'sha3_384', 'md5-sha1', 'sha3_512', 'blake2b', 'sha512', 'ripemd160', 'whirlpool', 'sm3', 'shake_128', 'md4', 'sha3_256', 'sha1', 'blake2b512'}\n",
            "{'md5', 'sha3_512', 'blake2b', 'sha512', 'blake2s', 'sha256', 'sha384', 'shake_256', 'shake_128', 'sha224', 'sha3_256', 'sha1', 'sha3_384', 'sha3_224'}\n"
          ],
          "name": "stdout"
        }
      ]
    },
    {
      "cell_type": "markdown",
      "metadata": {
        "id": "4_KBFUMVEelz"
      },
      "source": [
        "Метод **algorithms_available** создает список всех алгоритмов, доступных в системе, включая те, что доступны через OpenSSl.\n",
        "\n",
        " В данном случае в списке можно заметить дубликаты названий. algorithms_guaranteed перечисляет только алгоритмы модуля. Всегда присутствуют **md5, sha1, sha224, sha256, sha384, sha512**."
      ]
    },
    {
      "cell_type": "markdown",
      "metadata": {
        "id": "AnoY66OEE5bj"
      },
      "source": [
        "# Примеры кода с хеш-функциями в Python"
      ]
    },
    {
      "cell_type": "markdown",
      "metadata": {
        "id": "BlZzyjfcE8JR"
      },
      "source": [
        "Код ниже принимает строку **\"Hello World\"** и выводит дайджест HEX данной строки. hexdigest возвращает строку HEX, что представляет хеш, и в случае, если вам нужна последовательность байтов, нужно использовать дайджест."
      ]
    },
    {
      "cell_type": "code",
      "metadata": {
        "id": "SKGBxYICEwuF",
        "colab": {
          "base_uri": "https://localhost:8080/"
        },
        "outputId": "9e9ff549-9de3-48a8-e83a-ed0418209abb"
      },
      "source": [
        "import hashlib\n",
        " \n",
        "hash_object = hashlib.md5(b'Hello World')\n",
        "print(hash_object.hexdigest())"
      ],
      "execution_count": 3,
      "outputs": [
        {
          "output_type": "stream",
          "text": [
            "b10a8db164e0754105b7a99be72e3fe5\n"
          ],
          "name": "stdout"
        }
      ]
    },
    {
      "cell_type": "code",
      "metadata": {
        "colab": {
          "base_uri": "https://localhost:8080/"
        },
        "id": "QtHCWkAcXjos",
        "outputId": "2cd1c1c6-2253-42db-aab2-c59da91ebe10"
      },
      "source": [
        "import hashlib\r\n",
        " \r\n",
        "hash_object = hashlib.sha256(b'Hello World')\r\n",
        "print(hash_object.hexdigest())"
      ],
      "execution_count": 5,
      "outputs": [
        {
          "output_type": "stream",
          "text": [
            "a591a6d40bf420404a011733cfb7b190d62c65bf0bcda32b57b277d9ad9f146e\n"
          ],
          "name": "stdout"
        }
      ]
    },
    {
      "cell_type": "code",
      "metadata": {
        "colab": {
          "base_uri": "https://localhost:8080/"
        },
        "id": "8-6MqZwEXqJV",
        "outputId": "0c02cb99-64a2-4c24-9a86-88cd0a4390ea"
      },
      "source": [
        "import hashlib\r\n",
        " \r\n",
        "hash_object = hashlib.sha224(b'Hello World')\r\n",
        "print(hash_object.hexdigest())"
      ],
      "execution_count": 6,
      "outputs": [
        {
          "output_type": "stream",
          "text": [
            "c4890faffdb0105d991a461e668e276685401b02eab1ef4372795047\n"
          ],
          "name": "stdout"
        }
      ]
    },
    {
      "cell_type": "markdown",
      "metadata": {
        "id": "2XZOJN6-FjnP"
      },
      "source": [
        "если вам нужно принять какой-то ввод с консоли и хешировать его, не забудьте закодировать строку в последовательности байтов:"
      ]
    },
    {
      "cell_type": "markdown",
      "metadata": {
        "id": "GTOPrdJPJKxn"
      },
      "source": [
        "1. Хеширования на **MD5** "
      ]
    },
    {
      "cell_type": "code",
      "metadata": {
        "id": "u_fw28UtFk3i",
        "colab": {
          "base_uri": "https://localhost:8080/"
        },
        "outputId": "0cb0ecd5-bb43-427b-c26d-c3ed641b1717"
      },
      "source": [
        "+import hashlib\n",
        " \n",
        "mystring = input('Enter String to hash: ')\n",
        " \n",
        "# Предположительно по умолчанию UTF-8\n",
        "hash_object = hashlib.md5(mystring.encode())\n",
        "print(hash_object.hexdigest())"
      ],
      "execution_count": 4,
      "outputs": [
        {
          "output_type": "stream",
          "text": [
            "Enter String to hash: b10a8db164e0754105b7a99be72e3fe5\n",
            "3935a6184c654e7a05a4e42c1fb17def\n"
          ],
          "name": "stdout"
        }
      ]
    },
    {
      "cell_type": "code",
      "metadata": {
        "colab": {
          "base_uri": "https://localhost:8080/"
        },
        "id": "41fxFvL6Vnw0",
        "outputId": "9e9ff549-9de3-48a8-e83a-ed0418209abb"
      },
      "source": [
        "import hashlib\n",
        " \n",
        "hash_object = hashlib.md5(b'Hello World')\n",
        "print(hash_object.hexdigest())"
      ],
      "execution_count": null,
      "outputs": [
        {
          "output_type": "stream",
          "text": [
            "b10a8db164e0754105b7a99be72e3fe5\n"
          ],
          "name": "stdout"
        }
      ]
    },
    {
      "cell_type": "markdown",
      "metadata": {
        "id": "xiLcc8x8Fnse"
      },
      "source": [
        "2. Хеширования на **SHA1**  "
      ]
    },
    {
      "cell_type": "code",
      "metadata": {
        "id": "QbjadNCFF-h-",
        "colab": {
          "base_uri": "https://localhost:8080/",
          "height": 33
        },
        "outputId": "2fd89be0-5e1e-45f7-8d27-8608a30ecf9a"
      },
      "source": [
        "import hashlib\n",
        " \n",
        "hash_object = hashlib.sha1(b'Hello World')\n",
        "hex_dig = hash_object.hexdigest()\n",
        " \n",
        "print(hex_dig)"
      ],
      "execution_count": null,
      "outputs": [
        {
          "output_type": "stream",
          "text": [
            "0a4d55a8d778e5022fab701977c5d840bbc486d0\n"
          ],
          "name": "stdout"
        }
      ]
    },
    {
      "cell_type": "markdown",
      "metadata": {
        "id": "DP7-NgP8I6fr"
      },
      "source": [
        "3. Хеширование на **SHA224**"
      ]
    },
    {
      "cell_type": "code",
      "metadata": {
        "id": "5fByPQkAJUww",
        "colab": {
          "base_uri": "https://localhost:8080/",
          "height": 33
        },
        "outputId": "466a2434-f464-4aeb-bc12-2b2131d7e966"
      },
      "source": [
        "import hashlib\n",
        " \n",
        "hash_object = hashlib.sha224(b'Hello World')\n",
        "hex_dig = hash_object.hexdigest()\n",
        " \n",
        "print(hex_dig)"
      ],
      "execution_count": null,
      "outputs": [
        {
          "output_type": "stream",
          "text": [
            "c4890faffdb0105d991a461e668e276685401b02eab1ef4372795047\n"
          ],
          "name": "stdout"
        }
      ]
    },
    {
      "cell_type": "markdown",
      "metadata": {
        "id": "d-NGu_slJYXx"
      },
      "source": [
        "4. Хеширование на **SHA256**"
      ]
    },
    {
      "cell_type": "code",
      "metadata": {
        "id": "k4QR5WyiJXRT",
        "colab": {
          "base_uri": "https://localhost:8080/"
        },
        "outputId": "ce9cd5eb-8e40-4f7d-c236-ca82d1b639f7"
      },
      "source": [
        "import hashlib\n",
        " \n",
        "hash_object = hashlib.sha256(b'Hello World')\n",
        "hex_dig = hash_object.hexdigest()\n",
        " \n",
        "print(hex_dig)"
      ],
      "execution_count": 7,
      "outputs": [
        {
          "output_type": "stream",
          "text": [
            "a591a6d40bf420404a011733cfb7b190d62c65bf0bcda32b57b277d9ad9f146e\n"
          ],
          "name": "stdout"
        }
      ]
    },
    {
      "cell_type": "markdown",
      "metadata": {
        "id": "AJoDm5wKJlad"
      },
      "source": [
        "5. Хеширование на **SHA384**"
      ]
    },
    {
      "cell_type": "code",
      "metadata": {
        "id": "ETZbgFdyJuo9",
        "colab": {
          "base_uri": "https://localhost:8080/",
          "height": 33
        },
        "outputId": "e001f4ab-ab28-42bf-ce10-940d6a56083e"
      },
      "source": [
        "import hashlib\n",
        " \n",
        "hash_object = hashlib.sha384(b'Hello World')\n",
        "hex_dig = hash_object.hexdigest()\n",
        " \n",
        "print(hex_dig)"
      ],
      "execution_count": null,
      "outputs": [
        {
          "output_type": "stream",
          "text": [
            "99514329186b2f6ae4a1329e7ee6c610a729636335174ac6b740f9028396fcc803d0e93863a7c3d90f86beee782f4f3f\n"
          ],
          "name": "stdout"
        }
      ]
    },
    {
      "cell_type": "markdown",
      "metadata": {
        "id": "21OIsmeDJzl7"
      },
      "source": [
        "6. Хеширование на **SHA384**"
      ]
    },
    {
      "cell_type": "code",
      "metadata": {
        "id": "V1AjTGNyJ2qQ"
      },
      "source": [
        "import hashlib\n",
        " \n",
        "hash_object = hashlib.sha512(b'Hello World')\n",
        "hex_dig = hash_object.hexdigest()\n",
        " \n",
        "print(hex_dig)"
      ],
      "execution_count": null,
      "outputs": []
    },
    {
      "cell_type": "markdown",
      "metadata": {
        "id": "TrIxobQqJ5sh"
      },
      "source": [
        "# Использование алгоритмов OpenSSL"
      ]
    },
    {
      "cell_type": "markdown",
      "metadata": {
        "id": "1chQxkjOJ9T8"
      },
      "source": [
        "Алгоритмы, предоставленные OpenSSL определяем через функцию  **algorithms_available**"
      ]
    },
    {
      "cell_type": "code",
      "metadata": {
        "id": "ypoqL8MKP-PX",
        "colab": {
          "base_uri": "https://localhost:8080/"
        },
        "outputId": "bc80fdce-aebc-4423-91e7-9c61ff19328c"
      },
      "source": [
        "print(hashlib.algorithms_available)"
      ],
      "execution_count": 8,
      "outputs": [
        {
          "output_type": "stream",
          "text": [
            "{'blake2s256', 'sha512-256', 'sha384', 'shake256', 'sha3-256', 'sha3_224', 'shake128', 'sha256', 'sha512-224', 'sha3-224', 'sha3-384', 'md5', 'blake2s', 'sha3-512', 'shake_256', 'sha224', 'sha3_384', 'md5-sha1', 'sha3_512', 'blake2b', 'sha512', 'ripemd160', 'whirlpool', 'sm3', 'shake_128', 'md4', 'sha3_256', 'sha1', 'blake2b512'}\n"
          ],
          "name": "stdout"
        }
      ]
    },
    {
      "cell_type": "code",
      "metadata": {
        "id": "zjJpT73gQKaz",
        "colab": {
          "base_uri": "https://localhost:8080/",
          "height": 33
        },
        "outputId": "5240356a-f91b-4629-bb78-a0a02cd4110e"
      },
      "source": [
        "import hashlib\n",
        " \n",
        "hash_object = hashlib.new('ripemd160')\n",
        "hash_object.update(b'Hello World')\n",
        " \n",
        "print(hash_object.hexdigest())"
      ],
      "execution_count": null,
      "outputs": [
        {
          "output_type": "stream",
          "text": [
            "a830d7beb04eb7549ce990fb7dc962e499a27230\n"
          ],
          "name": "stdout"
        }
      ]
    },
    {
      "cell_type": "markdown",
      "metadata": {
        "id": "dZK74AybR3Bk"
      },
      "source": [
        "# Пример хеширования паролей Python"
      ]
    },
    {
      "cell_type": "markdown",
      "metadata": {
        "id": "21CyU3u_R5cR"
      },
      "source": [
        "В следующем примере пароли будут хешироваться для последующего сохранения в базе данных. Здесь мы будем использовать **salt**. **salt** является случайной последовательностью, добавленной к строке пароля перед использованием хеш-функции. **salt** используется для предотвращения перебора по словарю (**dictionary attack**) и атак радужной таблицы (**rainbow tables attacks**)."
      ]
    },
    {
      "cell_type": "code",
      "metadata": {
        "id": "ASZPNYhvR4nm"
      },
      "source": [
        "import uuid\n",
        "import hashlib\n",
        " \n",
        "def hash_password(password):\n",
        "    # uuid используется для генерации случайного числа\n",
        "    salt = uuid.uuid4().hex\n",
        "    return hashlib.sha256(salt.encode() + password.encode()).hexdigest() + ':' + salt\n",
        "    \n",
        "def check_password(hashed_password, user_password):\n",
        "    password, salt = hashed_password.split(':')\n",
        "    return password == hashlib.sha256(salt.encode() + user_password.encode()).hexdigest()\n",
        " \n",
        "new_pass = input('Введите пароль: ')\n",
        "hashed_password = hash_password(new_pass)\n",
        "print('Строка для хранения в базе данных: ' + hashed_password)\n",
        "old_pass = input('Введите пароль еще раз для проверки: ')\n",
        " \n",
        "if check_password(hashed_password, old_pass):\n",
        "    print('Вы ввели правильный пароль')\n",
        "else:\n",
        "    print('Извините, но пароли не совпадают')"
      ],
      "execution_count": null,
      "outputs": []
    }
  ]
}